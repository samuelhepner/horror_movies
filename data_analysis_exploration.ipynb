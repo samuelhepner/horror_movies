{
 "cells": [
  {
   "cell_type": "markdown",
   "metadata": {},
   "source": [
    "## This is where the fun begins!"
   ]
  },
  {
   "cell_type": "code",
   "execution_count": 1,
   "metadata": {},
   "outputs": [],
   "source": [
    "import pandas as pd\n",
    "import plotly.graph_objects as go\n",
    "import matplotlib.pyplot as plt"
   ]
  },
  {
   "cell_type": "code",
   "execution_count": 2,
   "metadata": {},
   "outputs": [
    {
     "name": "stderr",
     "output_type": "stream",
     "text": [
      "C:\\Users\\Samue\\anaconda3\\lib\\site-packages\\IPython\\core\\interactiveshell.py:3063: DtypeWarning: Columns (4) have mixed types.Specify dtype option on import or set low_memory=False.\n",
      "  interactivity=interactivity, compiler=compiler, result=result)\n"
     ]
    }
   ],
   "source": [
    "imdb_data = pd.read_csv(\"imdb_dataset.csv\")"
   ]
  },
  {
   "cell_type": "code",
   "execution_count": 3,
   "metadata": {},
   "outputs": [],
   "source": [
    "# Let's take a look at USA movies to see what movies we are working with and the distribution of genres.\n",
    "usa_movies = imdb_data[imdb_data['country'] == 'USA']"
   ]
  },
  {
   "cell_type": "code",
   "execution_count": 14,
   "metadata": {},
   "outputs": [
    {
     "data": {
      "text/html": [
       "<div>\n",
       "<style scoped>\n",
       "    .dataframe tbody tr th:only-of-type {\n",
       "        vertical-align: middle;\n",
       "    }\n",
       "\n",
       "    .dataframe tbody tr th {\n",
       "        vertical-align: top;\n",
       "    }\n",
       "\n",
       "    .dataframe thead th {\n",
       "        text-align: right;\n",
       "    }\n",
       "</style>\n",
       "<table border=\"1\" class=\"dataframe\">\n",
       "  <thead>\n",
       "    <tr style=\"text-align: right;\">\n",
       "      <th></th>\n",
       "      <th>title</th>\n",
       "      <th>original_title</th>\n",
       "      <th>date_published</th>\n",
       "      <th>year</th>\n",
       "    </tr>\n",
       "  </thead>\n",
       "  <tbody>\n",
       "    <tr>\n",
       "      <th>52039</th>\n",
       "      <td>Fantasy Island</td>\n",
       "      <td>Fantasy Island</td>\n",
       "      <td>2020-02-13</td>\n",
       "      <td>2020</td>\n",
       "    </tr>\n",
       "    <tr>\n",
       "      <th>52245</th>\n",
       "      <td>The Rental</td>\n",
       "      <td>The Rental</td>\n",
       "      <td>2020-07-24</td>\n",
       "      <td>2020</td>\n",
       "    </tr>\n",
       "    <tr>\n",
       "      <th>52318</th>\n",
       "      <td>Il giorno sbagliato</td>\n",
       "      <td>Unhinged</td>\n",
       "      <td>2020-09-24</td>\n",
       "      <td>2020</td>\n",
       "    </tr>\n",
       "    <tr>\n",
       "      <th>52374</th>\n",
       "      <td>The Party Planner</td>\n",
       "      <td>The Party Planner</td>\n",
       "      <td>2020-01-12</td>\n",
       "      <td>2020</td>\n",
       "    </tr>\n",
       "    <tr>\n",
       "      <th>52404</th>\n",
       "      <td>Scare Me</td>\n",
       "      <td>Scare Me</td>\n",
       "      <td>2020-10-01</td>\n",
       "      <td>2020</td>\n",
       "    </tr>\n",
       "    <tr>\n",
       "      <th>...</th>\n",
       "      <td>...</td>\n",
       "      <td>...</td>\n",
       "      <td>...</td>\n",
       "      <td>...</td>\n",
       "    </tr>\n",
       "    <tr>\n",
       "      <th>81453</th>\n",
       "      <td>Make America White Again</td>\n",
       "      <td>Make America White Again</td>\n",
       "      <td>2020-08-20</td>\n",
       "      <td>2020</td>\n",
       "    </tr>\n",
       "    <tr>\n",
       "      <th>81680</th>\n",
       "      <td>Anastasia: Once Upon a Time</td>\n",
       "      <td>Anastasia: Once Upon a Time</td>\n",
       "      <td>2020-04-07</td>\n",
       "      <td>2020</td>\n",
       "    </tr>\n",
       "    <tr>\n",
       "      <th>81805</th>\n",
       "      <td>Devil's Night: Dawn of the Nain Rouge</td>\n",
       "      <td>Devil's Night: Dawn of the Nain Rouge</td>\n",
       "      <td>2020-06-23</td>\n",
       "      <td>2020</td>\n",
       "    </tr>\n",
       "    <tr>\n",
       "      <th>81869</th>\n",
       "      <td>Ode to Passion</td>\n",
       "      <td>Ode to Passion</td>\n",
       "      <td>2020-07-10</td>\n",
       "      <td>2020</td>\n",
       "    </tr>\n",
       "    <tr>\n",
       "      <th>81887</th>\n",
       "      <td>Useless Humans</td>\n",
       "      <td>Useless Humans</td>\n",
       "      <td>2020-07-14</td>\n",
       "      <td>2020</td>\n",
       "    </tr>\n",
       "  </tbody>\n",
       "</table>\n",
       "<p>171 rows × 4 columns</p>\n",
       "</div>"
      ],
      "text/plain": [
       "                                       title  \\\n",
       "52039                         Fantasy Island   \n",
       "52245                             The Rental   \n",
       "52318                    Il giorno sbagliato   \n",
       "52374                      The Party Planner   \n",
       "52404                               Scare Me   \n",
       "...                                      ...   \n",
       "81453               Make America White Again   \n",
       "81680            Anastasia: Once Upon a Time   \n",
       "81805  Devil's Night: Dawn of the Nain Rouge   \n",
       "81869                         Ode to Passion   \n",
       "81887                         Useless Humans   \n",
       "\n",
       "                              original_title date_published  year  \n",
       "52039                         Fantasy Island     2020-02-13  2020  \n",
       "52245                             The Rental     2020-07-24  2020  \n",
       "52318                               Unhinged     2020-09-24  2020  \n",
       "52374                      The Party Planner     2020-01-12  2020  \n",
       "52404                               Scare Me     2020-10-01  2020  \n",
       "...                                      ...            ...   ...  \n",
       "81453               Make America White Again     2020-08-20  2020  \n",
       "81680            Anastasia: Once Upon a Time     2020-04-07  2020  \n",
       "81805  Devil's Night: Dawn of the Nain Rouge     2020-06-23  2020  \n",
       "81869                         Ode to Passion     2020-07-10  2020  \n",
       "81887                         Useless Humans     2020-07-14  2020  \n",
       "\n",
       "[171 rows x 4 columns]"
      ]
     },
     "execution_count": 14,
     "metadata": {},
     "output_type": "execute_result"
    }
   ],
   "source": [
    "\n",
    "usa_movies[['title','original_title', 'date_published','year']][usa_movies['year'] == 2020]"
   ]
  },
  {
   "cell_type": "code",
   "execution_count": null,
   "metadata": {},
   "outputs": [],
   "source": []
  }
 ],
 "metadata": {
  "kernelspec": {
   "display_name": "Python 3",
   "language": "python",
   "name": "python3"
  },
  "language_info": {
   "codemirror_mode": {
    "name": "ipython",
    "version": 3
   },
   "file_extension": ".py",
   "mimetype": "text/x-python",
   "name": "python",
   "nbconvert_exporter": "python",
   "pygments_lexer": "ipython3",
   "version": "3.7.6"
  }
 },
 "nbformat": 4,
 "nbformat_minor": 4
}
