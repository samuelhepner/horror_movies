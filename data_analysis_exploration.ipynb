{
 "cells": [
  {
   "cell_type": "markdown",
   "metadata": {},
   "source": [
    "## This is where the fun begins!"
   ]
  },
  {
   "cell_type": "code",
   "execution_count": 1,
   "metadata": {},
   "outputs": [],
   "source": [
    "import pandas as pd\n",
    "import plotly.graph_objects as go\n",
    "import matplotlib.pyplot as plt"
   ]
  },
  {
   "cell_type": "code",
   "execution_count": 2,
   "metadata": {},
   "outputs": [
    {
     "name": "stderr",
     "output_type": "stream",
     "text": [
      "C:\\Users\\Samue\\anaconda3\\lib\\site-packages\\IPython\\core\\interactiveshell.py:3063: DtypeWarning: Columns (3,4,5,6,7,8,13) have mixed types.Specify dtype option on import or set low_memory=False.\n",
      "  interactivity=interactivity, compiler=compiler, result=result)\n"
     ]
    }
   ],
   "source": [
    "imdb_data = pd.read_csv(\"imdb_datasets.tsv\", sep=\"\\t\")"
   ]
  },
  {
   "cell_type": "markdown",
   "metadata": {},
   "source": [
    "### Should pick out \"movie\" from titleType column\n",
    "\n",
    "First thought I would remove row values based on genres column but discovered that there were many values to comb through and it would be much easier to try through the titleType column"
   ]
  },
  {
   "cell_type": "code",
   "execution_count": 37,
   "metadata": {},
   "outputs": [],
   "source": [
    "# Getting the unique values from column\n",
    "format_set = set(imdb_data['titleType'].values)"
   ]
  },
  {
   "cell_type": "code",
   "execution_count": 38,
   "metadata": {},
   "outputs": [
    {
     "name": "stdout",
     "output_type": "stream",
     "text": [
      "nan\n",
      "tvSeries\n",
      "tvMiniSeries\n",
      "movie\n",
      "tvEpisode\n",
      "tvShort\n",
      "video\n",
      "tvMovie\n",
      "videoGame\n",
      "short\n",
      "tvSpecial\n"
     ]
    }
   ],
   "source": [
    "# Looking at the unique values to see which values I want to keep and which I want to get rid of\n",
    "for styling in format_set:\n",
    "    print(styling)"
   ]
  },
  {
   "cell_type": "markdown",
   "metadata": {},
   "source": [
    "After reading the tsv, I got a warning saying that columns 3, 4, 5, 6, 7, 8, and 13 have mixed datatypes which means that some cleaning is in order."
   ]
  },
  {
   "cell_type": "markdown",
   "metadata": {},
   "source": [
    "### I didn't find an easy way to keep the movie values and nan values so I will change the nan values to 0 or \"\" based on the dtype of the column and go from there."
   ]
  },
  {
   "cell_type": "code",
   "execution_count": 52,
   "metadata": {},
   "outputs": [],
   "source": [
    "imdb_movie_data = imdb_data[(imdb_data['titleType'] == 'movie') & (imdb_data['region'] == 'US')]"
   ]
  },
  {
   "cell_type": "code",
   "execution_count": 53,
   "metadata": {},
   "outputs": [
    {
     "data": {
      "text/plain": [
       "tconst                  0\n",
       "ordering                0\n",
       "title                   0\n",
       "region                  0\n",
       "language                0\n",
       "types                   0\n",
       "attributes              0\n",
       "isOriginalTitle         0\n",
       "titleType               0\n",
       "primaryTitle            0\n",
       "originalTitle           0\n",
       "isAdult                 0\n",
       "startYear               0\n",
       "endYear                 0\n",
       "runtimeMinutes          0\n",
       "genres                  0\n",
       "averageRating      101595\n",
       "numVotes           101595\n",
       "dtype: int64"
      ]
     },
     "execution_count": 53,
     "metadata": {},
     "output_type": "execute_result"
    }
   ],
   "source": [
    "imdb_movie_data.isna().sum()"
   ]
  },
  {
   "cell_type": "code",
   "execution_count": 4,
   "metadata": {},
   "outputs": [],
   "source": [
    "# Code to show more columns and rows\n",
    "pd.set_option('display.max_rows', 500)\n",
    "pd.set_option('display.max_columns', 500)\n",
    "pd.set_option('display.width', 1000)"
   ]
  },
  {
   "cell_type": "code",
   "execution_count": 54,
   "metadata": {},
   "outputs": [
    {
     "data": {
      "text/html": [
       "<div>\n",
       "<style scoped>\n",
       "    .dataframe tbody tr th:only-of-type {\n",
       "        vertical-align: middle;\n",
       "    }\n",
       "\n",
       "    .dataframe tbody tr th {\n",
       "        vertical-align: top;\n",
       "    }\n",
       "\n",
       "    .dataframe thead th {\n",
       "        text-align: right;\n",
       "    }\n",
       "</style>\n",
       "<table border=\"1\" class=\"dataframe\">\n",
       "  <thead>\n",
       "    <tr style=\"text-align: right;\">\n",
       "      <th></th>\n",
       "      <th>tconst</th>\n",
       "      <th>ordering</th>\n",
       "      <th>title</th>\n",
       "      <th>region</th>\n",
       "      <th>language</th>\n",
       "      <th>types</th>\n",
       "      <th>attributes</th>\n",
       "      <th>isOriginalTitle</th>\n",
       "      <th>titleType</th>\n",
       "      <th>primaryTitle</th>\n",
       "      <th>originalTitle</th>\n",
       "      <th>isAdult</th>\n",
       "      <th>startYear</th>\n",
       "      <th>endYear</th>\n",
       "      <th>runtimeMinutes</th>\n",
       "      <th>genres</th>\n",
       "      <th>averageRating</th>\n",
       "      <th>numVotes</th>\n",
       "    </tr>\n",
       "  </thead>\n",
       "  <tbody>\n",
       "    <tr>\n",
       "      <th>72</th>\n",
       "      <td>tt0000009</td>\n",
       "      <td>4.0</td>\n",
       "      <td>Miss Jerry</td>\n",
       "      <td>US</td>\n",
       "      <td>\\N</td>\n",
       "      <td>\\N</td>\n",
       "      <td>\\N</td>\n",
       "      <td>0</td>\n",
       "      <td>movie</td>\n",
       "      <td>Miss Jerry</td>\n",
       "      <td>Miss Jerry</td>\n",
       "      <td>0.0</td>\n",
       "      <td>1894</td>\n",
       "      <td>\\N</td>\n",
       "      <td>45</td>\n",
       "      <td>Romance</td>\n",
       "      <td>5.9</td>\n",
       "      <td>156.0</td>\n",
       "    </tr>\n",
       "    <tr>\n",
       "      <th>1988</th>\n",
       "      <td>tt0000630</td>\n",
       "      <td>4.0</td>\n",
       "      <td>Hamlet</td>\n",
       "      <td>US</td>\n",
       "      <td>\\N</td>\n",
       "      <td>\\N</td>\n",
       "      <td>\\N</td>\n",
       "      <td>0</td>\n",
       "      <td>movie</td>\n",
       "      <td>Hamlet</td>\n",
       "      <td>Amleto</td>\n",
       "      <td>0.0</td>\n",
       "      <td>1908</td>\n",
       "      <td>\\N</td>\n",
       "      <td>\\N</td>\n",
       "      <td>Drama</td>\n",
       "      <td>3.2</td>\n",
       "      <td>12.0</td>\n",
       "    </tr>\n",
       "    <tr>\n",
       "      <th>2100</th>\n",
       "      <td>tt0000679</td>\n",
       "      <td>1.0</td>\n",
       "      <td>The Fairylogue and Radio-Plays</td>\n",
       "      <td>US</td>\n",
       "      <td>\\N</td>\n",
       "      <td>\\N</td>\n",
       "      <td>\\N</td>\n",
       "      <td>0</td>\n",
       "      <td>movie</td>\n",
       "      <td>The Fairylogue and Radio-Plays</td>\n",
       "      <td>The Fairylogue and Radio-Plays</td>\n",
       "      <td>0.0</td>\n",
       "      <td>1908</td>\n",
       "      <td>\\N</td>\n",
       "      <td>120</td>\n",
       "      <td>Adventure,Fantasy</td>\n",
       "      <td>5.2</td>\n",
       "      <td>37.0</td>\n",
       "    </tr>\n",
       "    <tr>\n",
       "      <th>2534</th>\n",
       "      <td>tt0000886</td>\n",
       "      <td>2.0</td>\n",
       "      <td>Hamlet, Prince of Denmark</td>\n",
       "      <td>US</td>\n",
       "      <td>\\N</td>\n",
       "      <td>\\N</td>\n",
       "      <td>\\N</td>\n",
       "      <td>0</td>\n",
       "      <td>movie</td>\n",
       "      <td>Hamlet, Prince of Denmark</td>\n",
       "      <td>Hamlet</td>\n",
       "      <td>0.0</td>\n",
       "      <td>1910</td>\n",
       "      <td>\\N</td>\n",
       "      <td>\\N</td>\n",
       "      <td>Drama</td>\n",
       "      <td>5.1</td>\n",
       "      <td>21.0</td>\n",
       "    </tr>\n",
       "    <tr>\n",
       "      <th>2962</th>\n",
       "      <td>tt0001101</td>\n",
       "      <td>2.0</td>\n",
       "      <td>Abraham Lincoln's Clemency</td>\n",
       "      <td>US</td>\n",
       "      <td>\\N</td>\n",
       "      <td>\\N</td>\n",
       "      <td>\\N</td>\n",
       "      <td>0</td>\n",
       "      <td>movie</td>\n",
       "      <td>Abraham Lincoln's Clemency</td>\n",
       "      <td>Abraham Lincoln's Clemency</td>\n",
       "      <td>0.0</td>\n",
       "      <td>1910</td>\n",
       "      <td>\\N</td>\n",
       "      <td>\\N</td>\n",
       "      <td>\\N</td>\n",
       "      <td>5.1</td>\n",
       "      <td>14.0</td>\n",
       "    </tr>\n",
       "  </tbody>\n",
       "</table>\n",
       "</div>"
      ],
      "text/plain": [
       "         tconst  ordering                           title region language types attributes isOriginalTitle titleType                    primaryTitle                   originalTitle  isAdult startYear endYear runtimeMinutes             genres  averageRating  numVotes\n",
       "72    tt0000009       4.0                      Miss Jerry     US       \\N    \\N         \\N               0     movie                      Miss Jerry                      Miss Jerry      0.0      1894      \\N             45            Romance            5.9     156.0\n",
       "1988  tt0000630       4.0                          Hamlet     US       \\N    \\N         \\N               0     movie                          Hamlet                          Amleto      0.0      1908      \\N             \\N              Drama            3.2      12.0\n",
       "2100  tt0000679       1.0  The Fairylogue and Radio-Plays     US       \\N    \\N         \\N               0     movie  The Fairylogue and Radio-Plays  The Fairylogue and Radio-Plays      0.0      1908      \\N            120  Adventure,Fantasy            5.2      37.0\n",
       "2534  tt0000886       2.0       Hamlet, Prince of Denmark     US       \\N    \\N         \\N               0     movie       Hamlet, Prince of Denmark                          Hamlet      0.0      1910      \\N             \\N              Drama            5.1      21.0\n",
       "2962  tt0001101       2.0      Abraham Lincoln's Clemency     US       \\N    \\N         \\N               0     movie      Abraham Lincoln's Clemency      Abraham Lincoln's Clemency      0.0      1910      \\N             \\N                 \\N            5.1      14.0"
      ]
     },
     "execution_count": 54,
     "metadata": {},
     "output_type": "execute_result"
    }
   ],
   "source": [
    "imdb_movie_data.head()"
   ]
  },
  {
   "cell_type": "code",
   "execution_count": 7,
   "metadata": {},
   "outputs": [],
   "source": [
    "# get US movies and then work on function to get seperate tsvs by region\n",
    "# US_imdb_data = imdb_data[imdb_data['region'] == 'US']\n",
    "# And save as tsv\n",
    "# US_imdb_data.to_csv(\"US_imdb_datasets.csv\")"
   ]
  },
  {
   "cell_type": "code",
   "execution_count": 8,
   "metadata": {},
   "outputs": [],
   "source": [
    "# US_imdb_data.to_csv(\"US_imdb_datasets.tsv\", sep=\"\\t\")"
   ]
  },
  {
   "cell_type": "markdown",
   "metadata": {},
   "source": [
    "When I saved as a csv, I saved the id column from the original imdb_data csv\n",
    "so there's a column of data after the index that keeps the original row numbers from imdb_data"
   ]
  },
  {
   "cell_type": "code",
   "execution_count": 10,
   "metadata": {},
   "outputs": [],
   "source": [
    "regions=[]\n",
    "\n",
    "for region in imdb_data['region'].values:\n",
    "    if region in regions or type(region) == float:\n",
    "        pass\n",
    "    else:\n",
    "        regions.append(region)"
   ]
  },
  {
   "cell_type": "code",
   "execution_count": 12,
   "metadata": {},
   "outputs": [],
   "source": [
    "# Write function to pull and separate movies by region\n",
    "def get_region(data, region):\n",
    "    print(region)\n",
    "    imdb_data = data[data['region'] == f\"{region}\"]\n",
    "    \n",
    "    return imdb_data"
   ]
  },
  {
   "cell_type": "code",
   "execution_count": 15,
   "metadata": {},
   "outputs": [
    {
     "name": "stdout",
     "output_type": "stream",
     "text": [
      "JP\n"
     ]
    },
    {
     "data": {
      "text/html": [
       "<div>\n",
       "<style scoped>\n",
       "    .dataframe tbody tr th:only-of-type {\n",
       "        vertical-align: middle;\n",
       "    }\n",
       "\n",
       "    .dataframe tbody tr th {\n",
       "        vertical-align: top;\n",
       "    }\n",
       "\n",
       "    .dataframe thead th {\n",
       "        text-align: right;\n",
       "    }\n",
       "</style>\n",
       "<table border=\"1\" class=\"dataframe\">\n",
       "  <thead>\n",
       "    <tr style=\"text-align: right;\">\n",
       "      <th></th>\n",
       "      <th>tconst</th>\n",
       "      <th>ordering</th>\n",
       "      <th>title</th>\n",
       "      <th>region</th>\n",
       "      <th>language</th>\n",
       "      <th>types</th>\n",
       "      <th>attributes</th>\n",
       "      <th>isOriginalTitle</th>\n",
       "      <th>titleType</th>\n",
       "      <th>primaryTitle</th>\n",
       "      <th>originalTitle</th>\n",
       "      <th>isAdult</th>\n",
       "      <th>startYear</th>\n",
       "      <th>endYear</th>\n",
       "      <th>runtimeMinutes</th>\n",
       "      <th>genres</th>\n",
       "      <th>averageRating</th>\n",
       "      <th>numVotes</th>\n",
       "    </tr>\n",
       "  </thead>\n",
       "  <tbody>\n",
       "    <tr>\n",
       "      <th>7</th>\n",
       "      <td>tt0000001</td>\n",
       "      <td>8.0</td>\n",
       "      <td>カルメンチータ</td>\n",
       "      <td>JP</td>\n",
       "      <td>ja</td>\n",
       "      <td>imdbDisplay</td>\n",
       "      <td>\\N</td>\n",
       "      <td>0</td>\n",
       "      <td>short</td>\n",
       "      <td>Carmencita</td>\n",
       "      <td>Carmencita</td>\n",
       "      <td>0.0</td>\n",
       "      <td>1894</td>\n",
       "      <td>\\N</td>\n",
       "      <td>1</td>\n",
       "      <td>Documentary,Short</td>\n",
       "      <td>5.6</td>\n",
       "      <td>1650.0</td>\n",
       "    </tr>\n",
       "    <tr>\n",
       "      <th>15</th>\n",
       "      <td>tt0000002</td>\n",
       "      <td>8.0</td>\n",
       "      <td>道化師と犬</td>\n",
       "      <td>JP</td>\n",
       "      <td>ja</td>\n",
       "      <td>imdbDisplay</td>\n",
       "      <td>\\N</td>\n",
       "      <td>0</td>\n",
       "      <td>short</td>\n",
       "      <td>Le clown et ses chiens</td>\n",
       "      <td>Le clown et ses chiens</td>\n",
       "      <td>0.0</td>\n",
       "      <td>1892</td>\n",
       "      <td>\\N</td>\n",
       "      <td>5</td>\n",
       "      <td>Animation,Short</td>\n",
       "      <td>6.1</td>\n",
       "      <td>199.0</td>\n",
       "    </tr>\n",
       "    <tr>\n",
       "      <th>18</th>\n",
       "      <td>tt0000003</td>\n",
       "      <td>3.0</td>\n",
       "      <td>哀れなピエロ</td>\n",
       "      <td>JP</td>\n",
       "      <td>ja</td>\n",
       "      <td>imdbDisplay</td>\n",
       "      <td>\\N</td>\n",
       "      <td>0</td>\n",
       "      <td>short</td>\n",
       "      <td>Pauvre Pierrot</td>\n",
       "      <td>Pauvre Pierrot</td>\n",
       "      <td>0.0</td>\n",
       "      <td>1892</td>\n",
       "      <td>\\N</td>\n",
       "      <td>4</td>\n",
       "      <td>Animation,Comedy,Romance</td>\n",
       "      <td>6.5</td>\n",
       "      <td>1359.0</td>\n",
       "    </tr>\n",
       "    <tr>\n",
       "      <th>30</th>\n",
       "      <td>tt0000004</td>\n",
       "      <td>6.0</td>\n",
       "      <td>一杯のビール</td>\n",
       "      <td>JP</td>\n",
       "      <td>ja</td>\n",
       "      <td>imdbDisplay</td>\n",
       "      <td>\\N</td>\n",
       "      <td>0</td>\n",
       "      <td>short</td>\n",
       "      <td>Un bon bock</td>\n",
       "      <td>Un bon bock</td>\n",
       "      <td>0.0</td>\n",
       "      <td>1892</td>\n",
       "      <td>\\N</td>\n",
       "      <td>12</td>\n",
       "      <td>Animation,Short</td>\n",
       "      <td>6.2</td>\n",
       "      <td>121.0</td>\n",
       "    </tr>\n",
       "    <tr>\n",
       "      <th>53</th>\n",
       "      <td>tt0000007</td>\n",
       "      <td>4.0</td>\n",
       "      <td>キネトグラフの前のコーベットとコートニー</td>\n",
       "      <td>JP</td>\n",
       "      <td>ja</td>\n",
       "      <td>imdbDisplay</td>\n",
       "      <td>\\N</td>\n",
       "      <td>0</td>\n",
       "      <td>short</td>\n",
       "      <td>Corbett and Courtney Before the Kinetograph</td>\n",
       "      <td>Corbett and Courtney Before the Kinetograph</td>\n",
       "      <td>0.0</td>\n",
       "      <td>1894</td>\n",
       "      <td>\\N</td>\n",
       "      <td>1</td>\n",
       "      <td>Short,Sport</td>\n",
       "      <td>5.5</td>\n",
       "      <td>658.0</td>\n",
       "    </tr>\n",
       "  </tbody>\n",
       "</table>\n",
       "</div>"
      ],
      "text/plain": [
       "       tconst  ordering                 title region language        types attributes isOriginalTitle titleType                                 primaryTitle                                originalTitle  isAdult startYear endYear runtimeMinutes                    genres  averageRating  numVotes\n",
       "7   tt0000001       8.0               カルメンチータ     JP       ja  imdbDisplay         \\N               0     short                                   Carmencita                                   Carmencita      0.0      1894      \\N              1         Documentary,Short            5.6    1650.0\n",
       "15  tt0000002       8.0                 道化師と犬     JP       ja  imdbDisplay         \\N               0     short                       Le clown et ses chiens                       Le clown et ses chiens      0.0      1892      \\N              5           Animation,Short            6.1     199.0\n",
       "18  tt0000003       3.0                哀れなピエロ     JP       ja  imdbDisplay         \\N               0     short                               Pauvre Pierrot                               Pauvre Pierrot      0.0      1892      \\N              4  Animation,Comedy,Romance            6.5    1359.0\n",
       "30  tt0000004       6.0                一杯のビール     JP       ja  imdbDisplay         \\N               0     short                                  Un bon bock                                  Un bon bock      0.0      1892      \\N             12           Animation,Short            6.2     121.0\n",
       "53  tt0000007       4.0  キネトグラフの前のコーベットとコートニー     JP       ja  imdbDisplay         \\N               0     short  Corbett and Courtney Before the Kinetograph  Corbett and Courtney Before the Kinetograph      0.0      1894      \\N              1               Short,Sport            5.5     658.0"
      ]
     },
     "execution_count": 15,
     "metadata": {},
     "output_type": "execute_result"
    }
   ],
   "source": [
    "JP_imdb_data = get_region(imdb_data, \"JP\")\n",
    "JP_imdb_data.head()"
   ]
  },
  {
   "cell_type": "code",
   "execution_count": 16,
   "metadata": {},
   "outputs": [],
   "source": [
    "# Before continuing, let's look at all the movies that have nan or \\n for region value\n",
    "nan_region_data = imdb_data[imdb_data['region'].isna()]"
   ]
  },
  {
   "cell_type": "code",
   "execution_count": 21,
   "metadata": {},
   "outputs": [
    {
     "data": {
      "text/plain": [
       "2158685"
      ]
     },
     "execution_count": 21,
     "metadata": {},
     "output_type": "execute_result"
    }
   ],
   "source": [
    "len(nan_region_data['region'])"
   ]
  },
  {
   "cell_type": "code",
   "execution_count": 24,
   "metadata": {},
   "outputs": [
    {
     "data": {
      "text/html": [
       "<div>\n",
       "<style scoped>\n",
       "    .dataframe tbody tr th:only-of-type {\n",
       "        vertical-align: middle;\n",
       "    }\n",
       "\n",
       "    .dataframe tbody tr th {\n",
       "        vertical-align: top;\n",
       "    }\n",
       "\n",
       "    .dataframe thead th {\n",
       "        text-align: right;\n",
       "    }\n",
       "</style>\n",
       "<table border=\"1\" class=\"dataframe\">\n",
       "  <thead>\n",
       "    <tr style=\"text-align: right;\">\n",
       "      <th></th>\n",
       "      <th>tconst</th>\n",
       "      <th>ordering</th>\n",
       "      <th>title</th>\n",
       "      <th>region</th>\n",
       "      <th>language</th>\n",
       "      <th>types</th>\n",
       "      <th>attributes</th>\n",
       "      <th>isOriginalTitle</th>\n",
       "      <th>titleType</th>\n",
       "      <th>primaryTitle</th>\n",
       "      <th>originalTitle</th>\n",
       "      <th>isAdult</th>\n",
       "      <th>startYear</th>\n",
       "      <th>endYear</th>\n",
       "      <th>runtimeMinutes</th>\n",
       "      <th>genres</th>\n",
       "      <th>averageRating</th>\n",
       "      <th>numVotes</th>\n",
       "    </tr>\n",
       "  </thead>\n",
       "  <tbody>\n",
       "    <tr>\n",
       "      <th>1366749</th>\n",
       "      <td>tt0326513</td>\n",
       "      <td>1.0</td>\n",
       "      <td>Bitter Melons</td>\n",
       "      <td>NaN</td>\n",
       "      <td>\\N</td>\n",
       "      <td>\\N</td>\n",
       "      <td>\\N</td>\n",
       "      <td>0</td>\n",
       "      <td>short</td>\n",
       "      <td>Bitter Melons</td>\n",
       "      <td>Bitter Melons</td>\n",
       "      <td>0.0</td>\n",
       "      <td>1971</td>\n",
       "      <td>\\N</td>\n",
       "      <td>30</td>\n",
       "      <td>Short</td>\n",
       "      <td>8.2</td>\n",
       "      <td>11.0</td>\n",
       "    </tr>\n",
       "  </tbody>\n",
       "</table>\n",
       "</div>"
      ],
      "text/plain": [
       "            tconst  ordering          title region language types attributes isOriginalTitle titleType   primaryTitle  originalTitle  isAdult startYear endYear runtimeMinutes genres  averageRating  numVotes\n",
       "1366749  tt0326513       1.0  Bitter Melons    NaN       \\N    \\N         \\N               0     short  Bitter Melons  Bitter Melons      0.0      1971      \\N             30  Short            8.2      11.0"
      ]
     },
     "execution_count": 24,
     "metadata": {},
     "output_type": "execute_result"
    }
   ],
   "source": [
    "nan_region_data[nan_region_data.index == 1366749]"
   ]
  },
  {
   "cell_type": "code",
   "execution_count": null,
   "metadata": {},
   "outputs": [],
   "source": [
    "# Now let's loop through all the regions"
   ]
  }
 ],
 "metadata": {
  "kernelspec": {
   "display_name": "Python 3",
   "language": "python",
   "name": "python3"
  },
  "language_info": {
   "codemirror_mode": {
    "name": "ipython",
    "version": 3
   },
   "file_extension": ".py",
   "mimetype": "text/x-python",
   "name": "python",
   "nbconvert_exporter": "python",
   "pygments_lexer": "ipython3",
   "version": "3.7.6"
  }
 },
 "nbformat": 4,
 "nbformat_minor": 4
}
